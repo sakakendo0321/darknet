{
  "nbformat": 4,
  "nbformat_minor": 0,
  "metadata": {
    "colab": {
      "name": "dark.ipynb",
      "version": "0.3.2",
      "provenance": [],
      "include_colab_link": true
    },
    "kernelspec": {
      "name": "python3",
      "display_name": "Python 3"
    },
    "accelerator": "GPU"
  },
  "cells": [
    {
      "cell_type": "markdown",
      "metadata": {
        "id": "view-in-github",
        "colab_type": "text"
      },
      "source": [
        "[View in Colaboratory](https://colab.research.google.com/github/sakakendo0321/darknet/blob/master/dark.ipynb)"
      ]
    },
    {
      "metadata": {
        "id": "rQUbljUJQA1i",
        "colab_type": "code",
        "colab": {}
      },
      "cell_type": "code",
      "source": [
        "!apt update -qq;\n",
        "!wget https://developer.nvidia.com/compute/cuda/8.0/Prod2/local_installers/cuda-repo-ubuntu1604-8-0-local-ga2_8.0.61-1_amd64-deb;\n",
        "!dpkg -i cuda-repo-ubuntu1604-8-0-local-ga2_8.0.61-1_amd64-deb;\n",
        "!apt-key add /var/cuda-repo-8-0-local-ga2/7fa2af80.pub;\n",
        "!apt-get update -qq;\n",
        "!apt-get install cuda gcc-5 g++-5 -y -qq;\n",
        "!ln -s /usr/bin/gcc-5 /usr/local/cuda/bin/gcc;\n",
        "!ln -s /usr/bin/g++-5 /usr/local/cuda/bin/g++;\n",
        "!apt install cuda-8.0;"
      ],
      "execution_count": 0,
      "outputs": []
    },
    {
      "metadata": {
        "id": "GsqOagJFKDv6",
        "colab_type": "code",
        "colab": {}
      },
      "cell_type": "code",
      "source": [
        "#cuda installation\n",
        "!lspci | grep -i nvidia\n",
        "!uname -m && cat /etc/*release\n",
        "!wget https://developer.nvidia.com/compute/cuda/10.0/Prod/local_installers/cuda-repo-ubuntu1604-10-0-local-10.0.130-410.48_1.0-1_amd64-deb\n",
        "!ls\n",
        "!dpkg -i cuda-repo-ubuntu1604-10-0-local-10.0.130-410.48_1.0-1_amd64-deb\n",
        "!apt-key add /var/cuda-repo-10-0-local/7fa2af80.pub\n",
        "#b!apt-key add /var/cuda-repo-10-0-local-10.0.130-410.48\n",
        "!apt-get update\n",
        "!apt-get install cuda"
      ],
      "execution_count": 0,
      "outputs": []
    },
    {
      "metadata": {
        "id": "LDee2xAKfLvo",
        "colab_type": "code",
        "colab": {}
      },
      "cell_type": "code",
      "source": [
        "!/usr/local/cuda/bin/nvcc --version\n",
        "!ls /usr/local/cuda*\n",
        "!export PATH=\"/usr/local/cuda/bin:$PATH\"\n",
        "!export LD_LIBRARY_PATH=\"/usr/local/cuda/lib64:$LD_LIBRARY_PATH\"\n",
        "!export CUDA_INC_DIR=\"/usr/local/cuda/bin\"\n",
        "\n",
        "import os\n",
        "os.environ[\"CUDA_INC_DIR\"] = \"/usr/local/cuda/bin\"\n",
        "!echo $PATH $LD_LIBRARY_PATH $CUDA_INC_DIR\n",
        "!ls $CUDA_INC_DIR\n",
        "!nvcc --version"
      ],
      "execution_count": 0,
      "outputs": []
    },
    {
      "metadata": {
        "id": "ItU6OrTHLf60",
        "colab_type": "code",
        "colab": {}
      },
      "cell_type": "code",
      "source": [
        "#python cuda test\n",
        "!echo $LD_LIBRARY_PATH $CUDA_INC_DIR\n",
        "!pip install pycuda\n",
        "import pycuda.autoinit\n",
        "import pycuda.driver as cuda\n",
        "import pycuda.gpuarray as gpuarray\n",
        "import numpy\n",
        "\n",
        "\n",
        "d_array = numpy.random.randn(5, 5) # 0～1の乱数が入った5x5の倍制度配列を生成\n",
        "s_array = d_array.astype(numpy.float32) # 配列を単精度に変換（GPUは単精度演算の方が早い）\n",
        "\n",
        "gpu = gpuarray.to_gpu(s_array) # GPUのメモリー領域を確保しデータを渡す\n",
        "result = (2 * gpu).get() # 格納されているデータを2倍して結果を取得\n",
        "\n",
        "\n",
        "# 演算前の値を表示\n",
        "for x in s_array:\n",
        "    for xx in x:\n",
        "        print(\"{: f}\".format(xx), end=\"\\t\")\n",
        "    print(\"\")\n",
        "\n",
        "print(\"\")\n",
        "\n",
        "# 演算後の値を表示（乱数が2倍されている）\n",
        "for y in result:\n",
        "    for yy in y:\n",
        "        print(\"{: f}\".format(yy), end=\"\\t\")\n",
        "    print(\"\")"
      ],
      "execution_count": 0,
      "outputs": []
    },
    {
      "metadata": {
        "id": "Z8ObxBCcS2B-",
        "colab_type": "code",
        "colab": {}
      },
      "cell_type": "code",
      "source": [
        "#get status\n",
        "\n",
        "#config file\n",
        "!cat /content/darknet/.ngrok2/ngrok.yml\n",
        "!curl -s localhost:3000\n",
        "\n",
        "!curl -s http://localhost:4040/api/tunnels"
      ],
      "execution_count": 0,
      "outputs": []
    },
    {
      "metadata": {
        "id": "yy7ywm8XVd0n",
        "colab_type": "code",
        "colab": {}
      },
      "cell_type": "code",
      "source": [
        "#onetime workspace\n",
        "\n",
        "\n",
        "#!curl -X POST http://localhost:4040/api/tunnels -H \"Content-Type: application/json\" -d '{\"addr\":\"22\",\"proto\":\"tcp\",\"name\":\"ssh\"}'\n",
        "\n",
        "\n",
        "#get_ipython().system_raw('./ngrok http 3000&')\n",
        "#!./ngrok start -config /content/darknet/.ngrok2/ngrok.yml ssh-server flask-server &\n",
        "#get_ipython().system_raw('./ngrok start -config /content/darknet/.ngrok2/ngrok.yml sshServer flaskServer &&echo finish&')\n",
        "\n",
        "!curl -s http://localhost:4040/api/tunnels"
      ],
      "execution_count": 0,
      "outputs": []
    },
    {
      "metadata": {
        "id": "6zdiBcwAQRkU",
        "colab_type": "code",
        "colab": {}
      },
      "cell_type": "code",
      "source": [
        "#setup\n",
        "#\n",
        "![[ -e darknet ]] && rm -rf darknet\n",
        "!git clone https://github.com/sakakendo0321/darknet\n",
        "#!mkdir -p ~/.ngrok2 && cp darknet/.ngrok2/ngrok.yml ~/.ngrok2/ngrok.yml\n",
        "\n",
        "#create flask server\n",
        "!pip3 install flask\n",
        "get_ipython().system_raw('export FLASK_ENV=development && export FLASK_APP=darknet/colab/app.py && flask run --port=3000&')\n",
        "#get_ipython().system_raw('python3 darknet/colab/main.py&')\n",
        "\n",
        "#create ssh server\n",
        "#Generate root password\n",
        "import random, string\n",
        "password = ''.join(random.choice(string.ascii_letters + string.digits) for i in range(20))\n",
        "\n",
        "#Download ngrok\n",
        "! wget -q -c -nc https://bin.equinox.io/c/4VmDzA7iaHb/ngrok-stable-linux-amd64.zip\n",
        "! unzip -qq -n ngrok-stable-linux-amd64.zip\n",
        "#Setup sshd\n",
        "! apt-get install -qq -o=Dpkg::Use-Pty=0 openssh-server pwgen > /dev/null\n",
        "#Set root password\n",
        "! echo root:$password | chpasswd\n",
        "! mkdir -p /var/run/sshd\n",
        "! echo \"PermitRootLogin yes\" >> /etc/ssh/sshd_config\n",
        "! echo \"PasswordAuthentication yes\" >> /etc/ssh/sshd_config\n",
        "! echo \"LD_LIBRARY_PATH=/usr/lib64-nvidia\" >> /root/.bashrc\n",
        "! echo \"export LD_LIBRARY_PATH\" >> /root/.bashrc\n",
        "\n",
        "#Run sshd\n",
        "get_ipython().system_raw('/usr/sbin/sshd -D &')\n",
        "\n",
        "#Ask token\n",
        "print(\"Copy authtoken from https://dashboard.ngrok.com/auth\")\n",
        "import getpass\n",
        "authtoken = getpass.getpass()\n",
        "\n",
        "#Create tunnel\n",
        "#get_ipython().system_raw('./ngrok authtoken $authtoken & ./ngrok tcp 22 &&')\n",
        "#get_ipython().system_raw('./ngrok authtoken $authtoken && ./ngrok start -config=darknet/.ngrok2/ngrok.yml ssh-server flask-server &&echo finish&')\n",
        "#Print root password\n",
        "print(\"Root password: {}\".format(password))\n",
        "#Get public address\n",
        "#! curl -s http://localhost:4040/api/tunnels | python3 -c \"import sys, json; print(json.load(sys.stdin)['tunnels'][0]['public_url'])\"\n"
      ],
      "execution_count": 0,
      "outputs": []
    },
    {
      "metadata": {
        "id": "F-9ae0pxnIaq",
        "colab_type": "code",
        "colab": {}
      },
      "cell_type": "code",
      "source": [
        "#apt\n",
        "apt get install -y iputils pciutils lsof psmisc vim"
      ],
      "execution_count": 0,
      "outputs": []
    },
    {
      "metadata": {
        "id": "COmgIh7EnJwt",
        "colab_type": "code",
        "colab": {}
      },
      "cell_type": "code",
      "source": [
        "#pip\n",
        "!pip3 install icecream"
      ],
      "execution_count": 0,
      "outputs": []
    },
    {
      "metadata": {
        "id": "jvG7_Udxgc19",
        "colab_type": "code",
        "colab": {}
      },
      "cell_type": "code",
      "source": [
        "!sed -i -e \"s/GPU=0/GPU=1/g\" darknet-master/Makefile \n",
        "!echo ===============Makefile=====================\n",
        "!cat darknet-master/Makefile"
      ],
      "execution_count": 0,
      "outputs": []
    },
    {
      "metadata": {
        "id": "R_NK87aDm8y3",
        "colab_type": "code",
        "colab": {}
      },
      "cell_type": "code",
      "source": [
        "!apt-get install -y iputils;ping github.com"
      ],
      "execution_count": 0,
      "outputs": []
    },
    {
      "metadata": {
        "id": "aJH5QKYRnnnD",
        "colab_type": "code",
        "colab": {}
      },
      "cell_type": "code",
      "source": [
        "#gpu check\n",
        "import tensorflow as tf\n",
        "tf.test.gpu_device_name()\n",
        "\n",
        "#gpu type check\n",
        "from tensorflow.python.client import device_lib\n",
        "device_lib.list_local_devices()\n"
      ],
      "execution_count": 0,
      "outputs": []
    },
    {
      "metadata": {
        "id": "QITwxa3ppwSN",
        "colab_type": "code",
        "colab": {}
      },
      "cell_type": "code",
      "source": [
        "#ram\n",
        "!cat /proc/meminfo\n",
        "#cpu\n",
        "!cat /proc/cpuinfo"
      ],
      "execution_count": 0,
      "outputs": []
    }
  ]
}