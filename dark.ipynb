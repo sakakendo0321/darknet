{
  "nbformat": 4,
  "nbformat_minor": 0,
  "metadata": {
    "colab": {
      "name": "dark.ipynb",
      "version": "0.3.2",
      "provenance": [],
      "include_colab_link": true
    },
    "kernelspec": {
      "name": "python3",
      "display_name": "Python 3"
    },
    "accelerator": "GPU"
  },
  "cells": [
    {
      "cell_type": "markdown",
      "metadata": {
        "id": "view-in-github",
        "colab_type": "text"
      },
      "source": [
        "[View in Colaboratory](https://colab.research.google.com/github/sakakendo0321/darknet/blob/master/dark.ipynb)"
      ]
    },
    {
      "metadata": {
        "id": "Z8ObxBCcS2B-",
        "colab_type": "code",
        "colab": {}
      },
      "cell_type": "code",
      "source": [
        "#get status\n",
        "\n",
        "#config file\n",
        "!cat /content/darknet/.ngrok2/ngrok.yml\n",
        "!curl -s localhost:3000\n",
        "\n",
        "!curl -s http://localhost:4040/api/tunnels"
      ],
      "execution_count": 0,
      "outputs": []
    },
    {
      "metadata": {
        "id": "yy7ywm8XVd0n",
        "colab_type": "code",
        "colab": {
          "base_uri": "https://localhost:8080/",
          "height": 190
        },
        "outputId": "c5381499-d23a-47d6-a9f7-817a4f60a58c"
      },
      "cell_type": "code",
      "source": [
        "#onetime workspace\n",
        "\n",
        "\n",
        "#!curl -X POST http://localhost:4040/api/tunnels -H \"Content-Type: application/json\" -d '{\"addr\":\"22\",\"proto\":\"tcp\",\"name\":\"ssh\"}'\n",
        "\n",
        "\n",
        "#get_ipython().system_raw('./ngrok http 3000&')\n",
        "#!./ngrok start -config /content/darknet/.ngrok2/ngrok.yml ssh-server flask-server &\n",
        "#get_ipython().system_raw('./ngrok start -config /content/darknet/.ngrok2/ngrok.yml sshServer flaskServer &&echo finish&')\n",
        "\n",
        "!curl -s http://localhost:4040/api/tunnels/ssh"
      ],
      "execution_count": 14,
      "outputs": [
        {
          "output_type": "stream",
          "text": [
            "tunnels:\n",
            "    sshServer:\n",
            "        proto: tcp\n",
            "        addr: 22\n",
            "    flaskServer:\n",
            "        proto: http\n",
            "        addr: 3000\n",
            "hello world{\"tunnels\":[{\"name\":\"command_line (http)\",\"uri\":\"/api/tunnels/command_line+%28http%29\",\"public_url\":\"http://4bb6a8d6.ngrok.io\",\"proto\":\"http\",\"config\":{\"addr\":\"localhost:3000\",\"inspect\":true},\"metrics\":{\"conns\":{\"count\":4,\"gauge\":0,\"rate1\":3.956106599169584e-7,\"rate5\":0.0009294940230899711,\"rate15\":0.0017802024855809598,\"p50\":3452993,\"p90\":11950466,\"p95\":11950466,\"p99\":11950466},\"http\":{\"count\":4,\"rate1\":3.956106599169584e-7,\"rate5\":0.0009294940230899711,\"rate15\":0.0017802024855809598,\"p50\":2316826.5,\"p90\":10521368,\"p95\":10521368,\"p99\":10521368}}},{\"name\":\"ssh\",\"uri\":\"/api/tunnels/ssh\",\"public_url\":\"tcp://0.tcp.ngrok.io:19041\",\"proto\":\"tcp\",\"config\":{\"addr\":\"localhost:22\",\"inspect\":false},\"metrics\":{\"conns\":{\"count\":0,\"gauge\":1,\"rate1\":0,\"rate5\":0,\"rate15\":0,\"p50\":0,\"p90\":0,\"p95\":0,\"p99\":0},\"http\":{\"count\":0,\"rate1\":0,\"rate5\":0,\"rate15\":0,\"p50\":0,\"p90\":0,\"p95\":0,\"p99\":0}}}],\"uri\":\"/api/tunnels\"}\n",
            "{\"name\":\"ssh\",\"uri\":\"/api/tunnels/ssh\",\"public_url\":\"tcp://0.tcp.ngrok.io:19041\",\"proto\":\"tcp\",\"config\":{\"addr\":\"localhost:22\",\"inspect\":false},\"metrics\":{\"conns\":{\"count\":0,\"gauge\":1,\"rate1\":0,\"rate5\":0,\"rate15\":0,\"p50\":0,\"p90\":0,\"p95\":0,\"p99\":0},\"http\":{\"count\":0,\"rate1\":0,\"rate5\":0,\"rate15\":0,\"p50\":0,\"p90\":0,\"p95\":0,\"p99\":0}}}\n"
          ],
          "name": "stdout"
        }
      ]
    },
    {
      "metadata": {
        "id": "6zdiBcwAQRkU",
        "colab_type": "code",
        "colab": {
          "base_uri": "https://localhost:8080/",
          "height": 1020
        },
        "outputId": "6ed7ea81-66b9-46bc-caf7-415e47ac4ea8"
      },
      "cell_type": "code",
      "source": [
        "#setup\n",
        "#\n",
        "![[ -e darknet ]] && rm -rf darknet\n",
        "!git clone https://github.com/sakakendo0321/darknet\n",
        "#!mkdir -p ~/.ngrok2 && cp darknet/.ngrok2/ngrok.yml ~/.ngrok2/ngrok.yml\n",
        "\n",
        "#create flask server\n",
        "!pip3 install flask\n",
        "get_ipython().system_raw('python3 darknet/colab/main.py&')\n",
        "\n",
        "#create ssh server\n",
        "#Generate root password\n",
        "import random, string\n",
        "password = ''.join(random.choice(string.ascii_letters + string.digits) for i in range(20))\n",
        "\n",
        "#Download ngrok\n",
        "! wget -q -c -nc https://bin.equinox.io/c/4VmDzA7iaHb/ngrok-stable-linux-amd64.zip\n",
        "! unzip -qq -n ngrok-stable-linux-amd64.zip\n",
        "#Setup sshd\n",
        "! apt-get install -qq -o=Dpkg::Use-Pty=0 openssh-server pwgen > /dev/null\n",
        "#Set root password\n",
        "! echo root:$password | chpasswd\n",
        "! mkdir -p /var/run/sshd\n",
        "! echo \"PermitRootLogin yes\" >> /etc/ssh/sshd_config\n",
        "! echo \"PasswordAuthentication yes\" >> /etc/ssh/sshd_config\n",
        "! echo \"LD_LIBRARY_PATH=/usr/lib64-nvidia\" >> /root/.bashrc\n",
        "! echo \"export LD_LIBRARY_PATH\" >> /root/.bashrc\n",
        "\n",
        "#Run sshd\n",
        "get_ipython().system_raw('/usr/sbin/sshd -D &')\n",
        "\n",
        "#Ask token\n",
        "print(\"Copy authtoken from https://dashboard.ngrok.com/auth\")\n",
        "import getpass\n",
        "authtoken = getpass.getpass()\n",
        "\n",
        "#Create tunnel\n",
        "#get_ipython().system_raw('./ngrok authtoken $authtoken & ./ngrok tcp 22 &&')\n",
        "#get_ipython().system_raw('./ngrok authtoken $authtoken && ./ngrok start -config=darknet/.ngrok2/ngrok.yml ssh-server flask-server &&echo finish&')\n",
        "#Print root password\n",
        "print(\"Root password: {}\".format(password))\n",
        "#Get public address\n",
        "! curl -s http://localhost:4040/api/tunnels | python3 -c \\\n",
        "    \"import sys, json; print(json.load(sys.stdin)['tunnels'][0]['public_url'])\"\n"
      ],
      "execution_count": 2,
      "outputs": [
        {
          "output_type": "stream",
          "text": [
            "Cloning into 'darknet'...\n",
            "remote: Enumerating objects: 5906, done.\u001b[K\n",
            "remote: Total 5906 (delta 0), reused 0 (delta 0), pack-reused 5906\u001b[K\n",
            "Receiving objects: 100% (5906/5906), 6.11 MiB | 18.25 MiB/s, done.\n",
            "Resolving deltas: 100% (3941/3941), done.\n",
            "Collecting flask\n",
            "\u001b[?25l  Downloading https://files.pythonhosted.org/packages/7f/e7/08578774ed4536d3242b14dacb4696386634607af824ea997202cd0edb4b/Flask-1.0.2-py2.py3-none-any.whl (91kB)\n",
            "\u001b[K    100% |████████████████████████████████| 92kB 2.9MB/s \n",
            "\u001b[?25hCollecting itsdangerous>=0.24 (from flask)\n",
            "\u001b[?25l  Downloading https://files.pythonhosted.org/packages/dc/b4/a60bcdba945c00f6d608d8975131ab3f25b22f2bcfe1dab221165194b2d4/itsdangerous-0.24.tar.gz (46kB)\n",
            "\u001b[K    100% |████████████████████████████████| 51kB 6.4MB/s \n",
            "\u001b[?25hRequirement already satisfied: Werkzeug>=0.14 in /usr/local/lib/python3.6/dist-packages (from flask) (0.14.1)\n",
            "Collecting click>=5.1 (from flask)\n",
            "\u001b[?25l  Downloading https://files.pythonhosted.org/packages/34/c1/8806f99713ddb993c5366c362b2f908f18269f8d792aff1abfd700775a77/click-6.7-py2.py3-none-any.whl (71kB)\n",
            "\u001b[K    100% |████████████████████████████████| 71kB 4.6MB/s \n",
            "\u001b[?25hRequirement already satisfied: Jinja2>=2.10 in /usr/local/lib/python3.6/dist-packages (from flask) (2.10)\n",
            "Requirement already satisfied: MarkupSafe>=0.23 in /usr/local/lib/python3.6/dist-packages (from Jinja2>=2.10->flask) (1.0)\n",
            "Building wheels for collected packages: itsdangerous\n",
            "  Running setup.py bdist_wheel for itsdangerous ... \u001b[?25l-\b \bdone\n",
            "\u001b[?25h  Stored in directory: /root/.cache/pip/wheels/2c/4a/61/5599631c1554768c6290b08c02c72d7317910374ca602ff1e5\n",
            "Successfully built itsdangerous\n",
            "Installing collected packages: itsdangerous, click, flask\n",
            "Successfully installed click-6.7 flask-1.0.2 itsdangerous-0.24\n",
            "\n",
            "Redirecting output to ‘wget-log’.\n",
            "Created symlink /etc/systemd/system/getty.target.wants/getty@tty1.service → /lib/systemd/system/getty@.service.\n",
            "Created symlink /etc/systemd/system/multi-user.target.wants/remote-fs.target → /lib/systemd/system/remote-fs.target.\n",
            "Created symlink /etc/systemd/system/sysinit.target.wants/systemd-timesyncd.service → /lib/systemd/system/systemd-timesyncd.service.\n",
            "Created symlink /etc/systemd/system/dbus-org.freedesktop.resolve1.service → /lib/systemd/system/systemd-resolved.service.\n",
            "Created symlink /etc/systemd/system/multi-user.target.wants/systemd-resolved.service → /lib/systemd/system/systemd-resolved.service.\n",
            "ln: cannot remove '/etc/resolv.conf': Device or resource busy\n",
            "Created symlink /etc/systemd/system/multi-user.target.wants/ondemand.service → /lib/systemd/system/ondemand.service.\n",
            "Initializing machine ID from random generator.\n",
            "\n",
            "Creating config file /etc/ssh/sshd_config with new version\n",
            "Creating SSH2 RSA key; this may take some time ...\n",
            "2048 SHA256:FGOXrTXuT7lGg5F/ZyARrxptUIu5NHJZ62sQVzSmw9M root@81a2db0440ba (RSA)\n",
            "Creating SSH2 ECDSA key; this may take some time ...\n",
            "256 SHA256:sHjExZ4JKUhkmu0pQ00LgKcyNrTXF/s3yjqalqHqn6c root@81a2db0440ba (ECDSA)\n",
            "Creating SSH2 ED25519 key; this may take some time ...\n",
            "256 SHA256:nqJ4v4GleXUL1xA+LL6qiPplkjqv/ZG1oZJmWXCxVgk root@81a2db0440ba (ED25519)\n",
            "Created symlink /etc/systemd/system/sshd.service → /lib/systemd/system/ssh.service.\n",
            "Created symlink /etc/systemd/system/multi-user.target.wants/ssh.service → /lib/systemd/system/ssh.service.\n",
            "invoke-rc.d: could not determine current runlevel\n",
            "invoke-rc.d: policy-rc.d denied execution of start.\n",
            "Copy authtoken from https://dashboard.ngrok.com/auth\n",
            "··········\n",
            "Root password: KOWwEARPXOrwlIha5meO\n",
            "Traceback (most recent call last):\n",
            "  File \"<string>\", line 1, in <module>\n",
            "  File \"/usr/lib/python3.6/json/__init__.py\", line 299, in load\n",
            "    parse_constant=parse_constant, object_pairs_hook=object_pairs_hook, **kw)\n",
            "  File \"/usr/lib/python3.6/json/__init__.py\", line 354, in loads\n",
            "    return _default_decoder.decode(s)\n",
            "  File \"/usr/lib/python3.6/json/decoder.py\", line 339, in decode\n",
            "    obj, end = self.raw_decode(s, idx=_w(s, 0).end())\n",
            "  File \"/usr/lib/python3.6/json/decoder.py\", line 357, in raw_decode\n",
            "    raise JSONDecodeError(\"Expecting value\", s, err.value) from None\n",
            "json.decoder.JSONDecodeError: Expecting value: line 1 column 1 (char 0)\n"
          ],
          "name": "stdout"
        }
      ]
    },
    {
      "metadata": {
        "id": "F-9ae0pxnIaq",
        "colab_type": "code",
        "colab": {}
      },
      "cell_type": "code",
      "source": [
        "#apt\n",
        "apt get -y iputils install psmisc vim"
      ],
      "execution_count": 0,
      "outputs": []
    },
    {
      "metadata": {
        "id": "COmgIh7EnJwt",
        "colab_type": "code",
        "colab": {}
      },
      "cell_type": "code",
      "source": [
        "#pip\n",
        "!pip3 install icecream"
      ],
      "execution_count": 0,
      "outputs": []
    },
    {
      "metadata": {
        "id": "jvG7_Udxgc19",
        "colab_type": "code",
        "colab": {}
      },
      "cell_type": "code",
      "source": [
        "!sed -i -e \"s/GPU=0/GPU=1/g\" darknet-master/Makefile \n",
        "!echo ===============Makefile=====================\n",
        "!cat darknet-master/Makefile"
      ],
      "execution_count": 0,
      "outputs": []
    },
    {
      "metadata": {
        "id": "R_NK87aDm8y3",
        "colab_type": "code",
        "colab": {}
      },
      "cell_type": "code",
      "source": [
        "!apt-get install -y iputils;ping github.com"
      ],
      "execution_count": 0,
      "outputs": []
    },
    {
      "metadata": {
        "id": "aJH5QKYRnnnD",
        "colab_type": "code",
        "colab": {}
      },
      "cell_type": "code",
      "source": [
        "#gpu check\n",
        "import tensorflow as tf\n",
        "tf.test.gpu_device_name()\n",
        "\n",
        "#gpu type check\n",
        "from tensorflow.python.client import device_lib\n",
        "device_lib.list_local_devices()\n"
      ],
      "execution_count": 0,
      "outputs": []
    },
    {
      "metadata": {
        "id": "QITwxa3ppwSN",
        "colab_type": "code",
        "colab": {}
      },
      "cell_type": "code",
      "source": [
        "#ram\n",
        "!cat /proc/meminfo\n",
        "#cpu\n",
        "!cat /proc/cpuinfo"
      ],
      "execution_count": 0,
      "outputs": []
    }
  ]
}